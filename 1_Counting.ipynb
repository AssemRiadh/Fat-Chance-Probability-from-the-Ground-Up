{
  "nbformat": 4,
  "nbformat_minor": 0,
  "metadata": {
    "colab": {
      "name": "1. Counting.ipynb",
      "version": "0.3.2",
      "provenance": [],
      "collapsed_sections": [],
      "include_colab_link": true
    },
    "kernelspec": {
      "name": "python3",
      "display_name": "Python 3"
    }
  },
  "cells": [
    {
      "cell_type": "markdown",
      "metadata": {
        "id": "view-in-github",
        "colab_type": "text"
      },
      "source": [
        "<a href=\"https://colab.research.google.com/github/sa1987/Fat-Chance-Probability-from-the-Ground-Up/blob/master/1_Counting.ipynb\" target=\"_parent\"><img src=\"https://colab.research.google.com/assets/colab-badge.svg\" alt=\"Open In Colab\"/></a>"
      ]
    },
    {
      "cell_type": "markdown",
      "metadata": {
        "id": "dy7nlJxRxhu0",
        "colab_type": "text"
      },
      "source": [
        "# Theory:\n",
        "\n",
        "How many nos: between n and k where n<k: ((k-n)+1)\n",
        "\n",
        "\n",
        "How many nos: between n and k , divisible by m: ((last no: =< divible by m)- (first no: from n thats divisible by m)) + 1\n",
        "n=23 k= 283, m= 5 > 56-5 + 1\n",
        "\n"
      ]
    },
    {
      "cell_type": "markdown",
      "metadata": {
        "id": "RzHUOKWNxe-a",
        "colab_type": "text"
      },
      "source": [
        "In a sports stadium with numbered seats, every seat is occupied except seats 33 through 97 >> 97-33 +1\n",
        "\n",
        "\n",
        "In a sports stadium with numbered seats, every seat is occupied except seats 33 through 97. Suppose the fans are superstitious and only want to sit in even numbered seats because, otherwise, they fear their team will lose. How many even numbered seats are still available in the block of seats numbered\n",
        "33 through 97?  \n",
        "48-17 +1"
      ]
    },
    {
      "cell_type": "markdown",
      "metadata": {
        "id": "njZJUQ2hx7-l",
        "colab_type": "text"
      },
      "source": [
        "The formula for multiplying large numbers using exponential notation is 10a×10b=10a+b"
      ]
    },
    {
      "cell_type": "markdown",
      "metadata": {
        "id": "Ln961gpdyG2o",
        "colab_type": "text"
      },
      "source": [
        "Harvard has a -digit billing code for all financial transactions at the University, which means there are distinct billing numbers. For unambiguous record keeping, each financial transaction requires a distinct billing number. Suppose there are employees at the University, and each employee makes ten financial transactions each day of the year. (For the purposes of this problem, we will ignore the existence of leap years.)\n",
        "How many distinct billing numbers would Harvard need to use over a period of years (the approximate lifetime of the institution)? Choose the best answer.\n",
        "\n",
        "7.3 * 10^9"
      ]
    },
    {
      "cell_type": "markdown",
      "metadata": {
        "id": "kk2fkmYizi1a",
        "colab_type": "text"
      },
      "source": [
        "**The Multiplication Principle**"
      ]
    },
    {
      "cell_type": "markdown",
      "metadata": {
        "id": "ZFVLALjk1cLW",
        "colab_type": "text"
      },
      "source": [
        "To start with, say you walk into a Harvard house of pizza.\n",
        "You feel like ordering a pizza, and you've\n",
        "decided you want 1 meat topping and 1 veggie topping.\n",
        "Now, as it happens, the Harvard house of pizza\n",
        "offers 4 meat toppings and 5 veggie toppings.\n",
        "How many different pizzas could you order?\n",
        "Well, that's not too hard.\n",
        "For each of the 4 meat toppings, there are 5 possible pizzas, making\n",
        "a total of 4 times 5, or 20 pizzas."
      ]
    },
    {
      "cell_type": "markdown",
      "metadata": {
        "id": "QOKPDVr64hjZ",
        "colab_type": "text"
      },
      "source": [
        "Say you have 3 pairs of pants, 7 shirts, and 2 pairs of shoes.\n",
        "How many outfits could you make?\n",
        "Well, it's the same principle.\n",
        "For each pair of pants, there are 7 possible shirts,\n",
        "making 3 times 7, or 21, shirts and pants combos.\n",
        "And for each of those, there are 2 choices for the shoes,\n",
        "making a total of 3 times 7 times 2, or 42, outfits.\n",
        "These two examples illustrate what we call the multiplication principle."
      ]
    },
    {
      "cell_type": "markdown",
      "metadata": {
        "id": "Uh2h1GYF503c",
        "colab_type": "text"
      },
      "source": [
        ""
      ]
    },
    {
      "cell_type": "markdown",
      "metadata": {
        "id": "39JnODN64xDE",
        "colab_type": "text"
      },
      "source": [
        "How many five letter words are there in the English alphabet?\n",
        "Well, this again is a case of the multiplication principle.\n",
        "There are 26 choices for the first letter.\n",
        "And since we're not requiring the word to be an actual English word,\n",
        "there are likewise 26 choices for the second letter,\n",
        "26 choices for the third letter, and so on.\n",
        "So by the multiplication principle, the answer\n",
        "is 26 times 26 times 26 times 26 times 26,\n",
        "or 26 to the fifth power, which, as it happens, is 11,881,376."
      ]
    },
    {
      "cell_type": "markdown",
      "metadata": {
        "id": "-jyIkxiv5g7V",
        "colab_type": "text"
      },
      "source": [
        "** The number of sequences of k objects chosen from a collection of n objects is n^k **\n",
        "\n",
        "**No of sequences of length k chose from a collection of n objects, without repetion: n*n-1*........*n-k+1 >> nCk  --> n!/(n−k)!.**\n",
        "\n"
      ]
    },
    {
      "cell_type": "markdown",
      "metadata": {
        "id": "l3PYJF739Dem",
        "colab_type": "text"
      },
      "source": [
        "A course catalog for the Open University of Earth lists classes via a sequence of three numbers (chosen from to ) followed by three letters in English (chosen from A to Z). How many courses can be given unique catalog numbers? Choose the best answer.\n",
        "\n",
        "10^3 * 26^3"
      ]
    },
    {
      "cell_type": "markdown",
      "metadata": {
        "id": "ci0ru4T39XNa",
        "colab_type": "text"
      },
      "source": [
        "A course catalog for the Open University of the Milky Way lists classes by a sequence of two letters (chosen from A to Z) and four numbers (chosen from to ). \n",
        "\n",
        "\n",
        "26^2 * 10^4\n"
      ]
    },
    {
      "cell_type": "markdown",
      "metadata": {
        "id": "tR1eqh_d9edM",
        "colab_type": "text"
      },
      "source": [
        "A course catalog for the Open University of the Milky Way lists classes by a sequence of two letters (chosen from A to Z) and four numbers (chosen from to ).\n",
        "Is this enough to offer five-million courses? Choose the best answer\n",
        "\n",
        "Yes\n"
      ]
    },
    {
      "cell_type": "markdown",
      "metadata": {
        "id": "AcRGN9qa94Z9",
        "colab_type": "text"
      },
      "source": [
        "A course catalog for the Open University of the Milky Way lists classes by a sequence of two letters (chosen from A to Z) and four numbers (chosen from to ).\n",
        "How many course numbers are there which have no repeated letters and no repeated numbers?\n",
        "\n",
        "26\\*25\\*10\\*9\\*8\\*7"
      ]
    },
    {
      "cell_type": "markdown",
      "metadata": {
        "id": "r8o1PXe4-bs2",
        "colab_type": "text"
      },
      "source": [
        "3 digit no with (1-9) but , should be an odd no. How many possible sequences. \n",
        "Odd means, last digit(1,3,5,7,9). 3rd digit (5!) , 2nd digit(8!) 1st (7!) --> 8!*7!*5!"
      ]
    },
    {
      "cell_type": "markdown",
      "metadata": {
        "id": "NCTK09mcDBif",
        "colab_type": "text"
      },
      "source": [
        "For a positive integer \\(n\\), which is larger \\(n^n\\) or \\(n!\\) ? (Assume that \\(n \\neq 1\\).)\n",
        "\n",
        " \\(n^n\\) "
      ]
    },
    {
      "cell_type": "markdown",
      "metadata": {
        "id": "pg20MwF7DVCI",
        "colab_type": "text"
      },
      "source": [
        "How many three-digit odd numbers are there with no repeated digits? Choose the best answer.\n",
        "/\n",
        "\n",
        " (5\\*8*8\\)      (here are five possible choices for the last digit--\n",
        "1, 3, 5, 7, and 9.\n",
        "Now, the trick to solve this problem is to next think how many choices there\n",
        "are for the first digit, because the first digit does have\n",
        "to be 1, 2, 3, 4, 5, 6, 7, 8, or 9.\n",
        "It cannot be 0--\n",
        "then we would not get a three-digit number.\n",
        "So a priori, there are nine choices for the first digit, the numbers\n",
        "1 through 9.\n",
        "Except we've already used one of those numbers as the last digit,)"
      ]
    },
    {
      "cell_type": "markdown",
      "metadata": {
        "id": "JD6fgebBF3iV",
        "colab_type": "text"
      },
      "source": [
        "**Subtraction rule**\n",
        "\n",
        "the number of objects in a collection that satisfy some condition\n",
        "is equal to the total number of objects in the collection\n",
        "minus the number in that collection that don't satisfy the condition.\n",
        "For example, the number of consonants is equal to the total number\n",
        "of letters minus the number of vowels."
      ]
    },
    {
      "cell_type": "markdown",
      "metadata": {
        "id": "0QXhBw6JGBME",
        "colab_type": "text"
      },
      "source": [
        "we know how many words contain at least one vowel--\n",
        "26 to the fourth, the total number of words, minus 21 to the fourth,\n",
        "the number of words that don't contain a vowel."
      ]
    },
    {
      "cell_type": "markdown",
      "metadata": {
        "id": "gJTUOxomGevZ",
        "colab_type": "text"
      },
      "source": [
        "There are 6 candidates. If two refuse to be positioned next to each other.\n",
        "\n",
        "Let those two people be 𝐴 and 𝐵. There are totally 6! ways to permute people, including the cases that 𝐴 and 𝐵 are standing next to each other. To compute the # of cases 𝐴 and 𝐵 are together, consider them as a whole, i.e., regard them as a single person since they are standing together. Then there will be 2⋅5!=240 cases. 2 here is to indicate the cases 𝐴 stands in the left of 𝐵 and 𝐴 stands in the right of 𝐵\n",
        "\n",
        ".\n",
        "\n",
        "Finally, we have 6!−240=480\n",
        "."
      ]
    },
    {
      "cell_type": "markdown",
      "metadata": {
        "id": "3hAvVDxmM1uo",
        "colab_type": "text"
      },
      "source": [
        "how many numbers between 5 and 85\n",
        "are not divisible by either 2 or by 3.\n",
        "\n",
        "28\n",
        "\n",
        "81 total numbers minus 40 divisible by 2,\n",
        "minus 27 divisible by 3, plus 14 divisible by both 2 and 3  "
      ]
    },
    {
      "cell_type": "markdown",
      "metadata": {
        "id": "GiiaB9OkOX5B",
        "colab_type": "text"
      },
      "source": [
        "Of all the seven-letter words in the English alphabet, how many have a letter in them that appears more than once? Choose the best answer.\n",
        " 26^7 - 26\\*25\\*24\\*23\\*22\\*21\n",
        " \n",
        " \n",
        " \n",
        " A phone number has seven digits and cannot begin with a  0\n",
        " \n",
        " 9*10^6\n",
        " \n",
        " A phone number has seven digits and cannot begin with a 0. How many phone numbers contain at least one 7\n",
        " 9*10^6 . -  8\\*9^6\n",
        " "
      ]
    },
    {
      "cell_type": "markdown",
      "metadata": {
        "id": "3Y-4aAU_i9IM",
        "colab_type": "text"
      },
      "source": [
        "A phone number has seven digits and cannot begin with a 0.\n",
        "\n",
        "How many phone numbers contain the sequence 123\n",
        "\n"
      ]
    },
    {
      "cell_type": "markdown",
      "metadata": {
        "id": "00EQoywzWxSC",
        "colab_type": "text"
      },
      "source": [
        "**EVALUATION 1**\n",
        "\n",
        "How many whole numbers are there between 242 and 783 ? Choose the best answer. 542\n",
        "\n",
        "How many whole numbers are there between 242 and 783 and divisible by 6 ? Choose the best answer. 90\n",
        "\n",
        "How many whole numbers are there between 242 and 783 and not divisible by 6 ? Choose the best answer. 452\n",
        "\n",
        "13  athletes from around the world are competing in the steeplechase competition at the 2020 Olympics. By the outcome of the event we'll mean the determination of who gets the gold medal, who gets the silver medal, and who gets the bronze medal.  13\\*12*11\n",
        "\n",
        "13  athletes from around the world are competing in the steeplechase competition at the 2020 Olympics. By the outcome of the event we'll mean the determination of who gets the gold medal, who gets the silver medal, and who gets the bronze medal.\n",
        "Say that three of the athletes in the steeplechase competition are from Moldovia. (Steeplechase is big in Moldovia, apparently.) How many outcomes involve at least one Moldovian winning a medal? Choose the best answer. 13\\*12*11 - 10\\*9*8 \n",
        "\n",
        "Recall that by a \"word\" in the English alphabet we mean an arbitrary sequence of letters chosen from the 26 letters of the alphabet.\n",
        "How many six-letter words in the English alphabet contain at least one vowel? (For the purposes of this problem, there are five vowels among the letters of the alphabet). Choose the best answer.\n",
        "\n",
        "26^6 - 21^6\n",
        "\n",
        "Recall that by a \"word\" in the English alphabet we mean an arbitrary sequence of 36 letters chosen from the letters of the alphabet.\n",
        "How many six-letter words in the English alphabet have at least one repeated letter? (By a repeated letter, we mean any letter that appears more than once in the word, not necessarily in two adjacent letters.) Choose the best answer. \n",
        "\n",
        "26^6 - (26 \\* 25 \\* 24 \\* 23 \\* 22 \\* 21)\n",
        "\n",
        "Consider all numbers consisting of four different digits all between and 1 & 9 . How many of these are odd? Choose the best answer. 5\\*8\\*7*6\n",
        "\n",
        "\n"
      ]
    },
    {
      "cell_type": "markdown",
      "metadata": {
        "id": "TmaQ3WVRYRiK",
        "colab_type": "text"
      },
      "source": [
        ""
      ]
    }
  ]
}